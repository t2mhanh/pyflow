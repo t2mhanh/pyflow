{
 "cells": [
  {
   "cell_type": "code",
   "execution_count": 10,
   "metadata": {},
   "outputs": [
    {
     "name": "stdout",
     "output_type": "stream",
     "text": [
      "0\n"
     ]
    },
    {
     "ename": "KeyboardInterrupt",
     "evalue": "",
     "output_type": "error",
     "traceback": [
      "\u001b[0;31m---------------------------------------------------------------------------\u001b[0m",
      "\u001b[0;31mKeyboardInterrupt\u001b[0m                         Traceback (most recent call last)",
      "\u001b[0;32m<ipython-input-10-b7e20397b9a3>\u001b[0m in \u001b[0;36m<module>\u001b[0;34m()\u001b[0m\n\u001b[1;32m     73\u001b[0m         u, v, im2W = pyflow.coarse2fine_flow(\n\u001b[1;32m     74\u001b[0m             \u001b[0mim1\u001b[0m\u001b[0;34m,\u001b[0m \u001b[0mim2\u001b[0m\u001b[0;34m,\u001b[0m \u001b[0malpha\u001b[0m\u001b[0;34m,\u001b[0m \u001b[0mratio\u001b[0m\u001b[0;34m,\u001b[0m \u001b[0mminWidth\u001b[0m\u001b[0;34m,\u001b[0m \u001b[0mnOuterFPIterations\u001b[0m\u001b[0;34m,\u001b[0m \u001b[0mnInnerFPIterations\u001b[0m\u001b[0;34m,\u001b[0m\u001b[0;34m\u001b[0m\u001b[0m\n\u001b[0;32m---> 75\u001b[0;31m             nSORIterations, colType)\n\u001b[0m\u001b[1;32m     76\u001b[0m         \u001b[0ms\u001b[0m \u001b[0;34m=\u001b[0m \u001b[0mim1\u001b[0m\u001b[0;34m.\u001b[0m\u001b[0mshape\u001b[0m\u001b[0;34m\u001b[0m\u001b[0m\n\u001b[1;32m     77\u001b[0m         \u001b[0mflow\u001b[0m \u001b[0;34m=\u001b[0m \u001b[0mnp\u001b[0m\u001b[0;34m.\u001b[0m\u001b[0mzeros\u001b[0m\u001b[0;34m(\u001b[0m\u001b[0;34m(\u001b[0m\u001b[0ms\u001b[0m\u001b[0;34m[\u001b[0m\u001b[0;36m0\u001b[0m\u001b[0;34m]\u001b[0m\u001b[0;34m,\u001b[0m\u001b[0ms\u001b[0m\u001b[0;34m[\u001b[0m\u001b[0;36m1\u001b[0m\u001b[0;34m]\u001b[0m\u001b[0;34m,\u001b[0m\u001b[0;36m2\u001b[0m\u001b[0;34m)\u001b[0m\u001b[0;34m)\u001b[0m\u001b[0;34m\u001b[0m\u001b[0m\n",
      "\u001b[0;31mKeyboardInterrupt\u001b[0m: "
     ]
    }
   ],
   "source": [
    "from __future__ import absolute_import\n",
    "from __future__ import division\n",
    "from __future__ import print_function\n",
    "# from __future__ import unicode_literals\n",
    "import numpy as np\n",
    "from PIL import Image\n",
    "import time\n",
    "import argparse\n",
    "import pyflow\n",
    "import fnmatch\n",
    "import os\n",
    "import matplotlib.pyplot as plt\n",
    "import cv2\n",
    "\n",
    "    \n",
    "# Flow Options:\n",
    "alpha = 0.012\n",
    "ratio = 0.75\n",
    "minWidth = 20\n",
    "nOuterFPIterations = 7\n",
    "nInnerFPIterations = 1\n",
    "nSORIterations = 30\n",
    "colType = 1  # 0 or default:RGB, 1:GRAY (but pass gray image with shape (h,w,1))\n",
    "#---------------------------------------------------------------------------------------\n",
    "path = '/usr/not-backed-up/1_DATABASE/UCSD_Anomaly_Dataset.tar/UCSD_Anomaly_Dataset.v1p2/'\n",
    "data = 'UCSDped1/'\n",
    "subset = 'Train/'\n",
    "savePath = path + 'Flow_python_240x360' + subset\n",
    "\n",
    "if not os.path.exists(savePath):\n",
    "    os.mkdir(savePath)\n",
    "cur_fold = path + data + subset\n",
    "\n",
    "for seq in range(1):\n",
    "    id = 0\n",
    "    print(seq)\n",
    "    if seq < 9:                \n",
    "        dirpath = cur_fold + 'Train00' + str(seq+1)\n",
    "    else:\n",
    "        dirpath = cur_fold + 'Train0' + str(seq+1)  \n",
    "    nfr = len(fnmatch.filter(os.listdir(dirpath), '*.tif'))\n",
    "    flow_seq = np.zeros((156,240,2,nfr),dtype=np.float64)\n",
    "    for fr in range(nfr-1):\n",
    "        if fr < 8:\n",
    "            first = '00' + str(fr+1)\n",
    "            second = '00' + str(fr+2)\n",
    "        elif fr == 8:\n",
    "            first = '00' + str(fr+1)\n",
    "            second = '0' + str(fr+2)\n",
    "        elif fr < 98:\n",
    "            first = '0' + str(fr+1)\n",
    "            second = '0' + str(fr+2)\n",
    "        elif fr == 98:\n",
    "            first = '0' + str(fr+1)\n",
    "            second = str(fr+2)\n",
    "        else:\n",
    "            first = str(fr+1)\n",
    "            second = str(fr+2)\n",
    "        im1 = Image.open(dirpath + '/' + first + '.tif')\n",
    "        im1 = np.array(im1.resize((240,156),Image.BILINEAR))#size [width,height]            \n",
    "        im1 = np.reshape(im1,[156,240,1])\n",
    "        \n",
    "#         im1 = np.concatenate((im1[..., None],im1[..., None],im1[..., None]),axis=2)\n",
    "        im2 = Image.open(dirpath + '/' + second + '.tif')\n",
    "        im2 = np.array(im2.resize((240,156),Image.BILINEAR))       \n",
    "        im2 = np.reshape(im2,[156,240,1])\n",
    "#         im2 = np.concatenate((im2[..., None],im2[..., None],im2[..., None]),axis=2)        \n",
    "        im1 = im1.astype(float) / 255.\n",
    "        im2 = im2.astype(float) / 255.\n",
    "        \n",
    "        \n",
    "        # s = time.time()\n",
    "        u, v, im2W = pyflow.coarse2fine_flow(\n",
    "            im1, im2, alpha, ratio, minWidth, nOuterFPIterations, nInnerFPIterations,\n",
    "            nSORIterations, colType)\n",
    "        s = im1.shape\n",
    "        flow = np.zeros((s[0],s[1],2))\n",
    "        flow[:,:,0] = u\n",
    "        flow[:,:,1] = v\n",
    "        id = id + 1\n",
    "        flow_seq[:,:,:,id] = flow\n",
    "#         print(flow_seq.shape)\n",
    "    np.save(savePath + 'Train' + str(seq+1) + '.npy', flow_seq)\n",
    "#     np.load(savePath + 'Train' + str(seq+1) + '.npy')\n",
    "\n",
    "#     print(flow.shape)    \n",
    "#     print(flow.dtype)\n",
    "# #         flow = np.concatenate((u[..., None], v[..., None]), axis=2)\n",
    "# #         print(flow.shape)\n",
    "        \n",
    "# #         hsv = np.zeros(im1.shape, dtype=np.uint8)\n",
    "#         hsv = np.zeros([156,240,3], dtype=np.uint8)\n",
    "#         hsv[:, :, 0] = 255\n",
    "#         hsv[:, :, 1] = 255\n",
    "#         mag, ang = cv2.cartToPolar(flow[..., 0], flow[..., 1])\n",
    "#         hsv[..., 0] = ang * 180 / np.pi / 2\n",
    "#         hsv[..., 2] = cv2.normalize(mag, None, 0, 255, cv2.NORM_MINMAX)\n",
    "#         rgb = cv2.cvtColor(hsv, cv2.COLOR_HSV2BGR)\n",
    "# #         print(np.shape(rgb))\n",
    "# #         print(rgb[239,155,:])\n",
    "#         plt.figure()\n",
    "# #         plt.axis('off')\n",
    "#         plt.imshow(rgb)\n",
    "#         plt.show()\n",
    "#         raw_input(\"Press Enter to continue...\")"
   ]
  },
  {
   "cell_type": "code",
   "execution_count": 11,
   "metadata": {},
   "outputs": [
    {
     "ename": "IndexError",
     "evalue": "index 200 is out of bounds for axis 3 with size 200",
     "output_type": "error",
     "traceback": [
      "\u001b[0;31m---------------------------------------------------------------------------\u001b[0m",
      "\u001b[0;31mIndexError\u001b[0m                                Traceback (most recent call last)",
      "\u001b[0;32m<ipython-input-11-db7183475ff5>\u001b[0m in \u001b[0;36m<module>\u001b[0;34m()\u001b[0m\n\u001b[1;32m      9\u001b[0m \u001b[0;31m#         import matplotlib.pyplot as plt\u001b[0m\u001b[0;34m\u001b[0m\u001b[0;34m\u001b[0m\u001b[0m\n\u001b[1;32m     10\u001b[0m \u001b[0;31m#         import cv2\u001b[0m\u001b[0;34m\u001b[0m\u001b[0;34m\u001b[0m\u001b[0m\n\u001b[0;32m---> 11\u001b[0;31m \u001b[0ma\u001b[0m \u001b[0;34m=\u001b[0m \u001b[0mflow_seq\u001b[0m\u001b[0;34m[\u001b[0m\u001b[0;34m:\u001b[0m\u001b[0;34m,\u001b[0m\u001b[0;34m:\u001b[0m\u001b[0;34m,\u001b[0m\u001b[0;34m:\u001b[0m\u001b[0;34m,\u001b[0m\u001b[0;36m200\u001b[0m\u001b[0;34m]\u001b[0m\u001b[0;34m\u001b[0m\u001b[0m\n\u001b[0m\u001b[1;32m     12\u001b[0m \u001b[0mhsv\u001b[0m \u001b[0;34m=\u001b[0m \u001b[0mnp\u001b[0m\u001b[0;34m.\u001b[0m\u001b[0mzeros\u001b[0m\u001b[0;34m(\u001b[0m\u001b[0;34m[\u001b[0m\u001b[0;36m156\u001b[0m\u001b[0;34m,\u001b[0m\u001b[0;36m240\u001b[0m\u001b[0;34m,\u001b[0m\u001b[0;36m3\u001b[0m\u001b[0;34m]\u001b[0m\u001b[0;34m,\u001b[0m \u001b[0mdtype\u001b[0m\u001b[0;34m=\u001b[0m\u001b[0mnp\u001b[0m\u001b[0;34m.\u001b[0m\u001b[0muint8\u001b[0m\u001b[0;34m)\u001b[0m\u001b[0;34m\u001b[0m\u001b[0m\n\u001b[1;32m     13\u001b[0m \u001b[0mhsv\u001b[0m\u001b[0;34m[\u001b[0m\u001b[0;34m:\u001b[0m\u001b[0;34m,\u001b[0m \u001b[0;34m:\u001b[0m\u001b[0;34m,\u001b[0m \u001b[0;36m0\u001b[0m\u001b[0;34m]\u001b[0m \u001b[0;34m=\u001b[0m \u001b[0;36m255\u001b[0m\u001b[0;34m\u001b[0m\u001b[0m\n",
      "\u001b[0;31mIndexError\u001b[0m: index 200 is out of bounds for axis 3 with size 200"
     ]
    }
   ],
   "source": [
    "# e = time.time()\n",
    "        # print('Time Taken: %.2f seconds for image of size (%d, %d, %d)' % (\n",
    "        #     e - s, im1.shape[0], im1.shape[1], im1.shape[2]))\n",
    "\n",
    "        \n",
    "#         flow_seq = np.concatenate\n",
    "#     np.save(savePath + 'Train' + str(seq+1) + str(id) + '.npy', flow)\n",
    "        \n",
    "#         import matplotlib.pyplot as plt\n",
    "#         import cv2\n",
    "a = flow_seq[:,:,:,200]\n",
    "hsv = np.zeros([156,240,3], dtype=np.uint8)\n",
    "hsv[:, :, 0] = 255\n",
    "hsv[:, :, 1] = 255\n",
    "mag, ang = cv2.cartToPolar(a[..., 0], a[..., 1])\n",
    "hsv[..., 0] = ang * 180 / np.pi / 2\n",
    "hsv[..., 2] = cv2.normalize(mag, None, 0, 255, cv2.NORM_MINMAX)\n",
    "rgb = cv2.cvtColor(hsv, cv2.COLOR_HSV2BGR)\n",
    "\n",
    "plt.figure()\n",
    "plt.axis('off')\n",
    "plt.imshow(rgb)\n",
    "plt.show()\n",
    "# raw_input(\"Press Enter to continue...\")\n",
    "# print(len(fnmatch.filter(os.listdir(dirpath), '*.tif')))"
   ]
  },
  {
   "cell_type": "code",
   "execution_count": 12,
   "metadata": {},
   "outputs": [
    {
     "name": "stdout",
     "output_type": "stream",
     "text": [
      "(156, 240)\n"
     ]
    },
    {
     "data": {
      "image/png": "[encoded data removed]",
      "text/plain": [
       "<matplotlib.figure.Figure at 0x7f9bd1e90c10>"
      ]
     },
     "metadata": {},
     "output_type": "display_data"
    }
   ],
   "source": [
    "# import sys\n",
    "# sys.path.insert(0,'/home/csunix/linux/apps/install/anaconda/4.4.0/lib/python2.7/site-packages/scipy/signal/')\n",
    "# # from scipy.signal import convolve2d\n",
    "# import scipy.signal.convolve2d\n",
    "from scipy import signal\n",
    "a_mag = np.sum(a**2,axis=2)\n",
    "print(a_mag.shape)\n",
    "plt.figure()\n",
    "plt.imshow(a_mag)\n",
    "plt.colorbar()\n",
    "plt.show()"
   ]
  },
  {
   "cell_type": "code",
   "execution_count": 7,
   "metadata": {},
   "outputs": [
    {
     "name": "stdout",
     "output_type": "stream",
     "text": [
      "(109, 193)\n"
     ]
    }
   ],
   "source": [
    "w = np.ones([48,48])\n",
    "b = signal.convolve2d(a_mag, w, boundary='symm', mode='valid')\n",
    "print(b.shape)\n",
    "# for i in range(0,10,2):\n",
    "#     for j in range(0,240,)\n"
   ]
  },
  {
   "cell_type": "code",
   "execution_count": null,
   "metadata": {
    "collapsed": true
   },
   "outputs": [],
   "source": []
  }
 ],
 "metadata": {
  "kernelspec": {
   "display_name": "Python 2",
   "language": "python",
   "name": "python2"
  },
  "language_info": {
   "codemirror_mode": {
    "name": "ipython",
    "version": 2
   },
   "file_extension": ".py",
   "mimetype": "text/x-python",
   "name": "python",
   "nbconvert_exporter": "python",
   "pygments_lexer": "ipython2",
   "version": "2.7.13"
  }
 },
 "nbformat": 4,
 "nbformat_minor": 2
}
